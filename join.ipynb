{
  "cells": [
    {
      "cell_type": "markdown",
      "metadata": {
        "id": "view-in-github",
        "colab_type": "text"
      },
      "source": [
        "<a href=\"https://colab.research.google.com/github/vu-topics-in-big-data-2022/Project-Incident-Team10/blob/main/join.ipynb\" target=\"_parent\"><img src=\"https://colab.research.google.com/assets/colab-badge.svg\" alt=\"Open In Colab\"/></a>"
      ]
    },
    {
      "cell_type": "code",
      "execution_count": null,
      "id": "96d418ca-5c11-43f4-b70c-c383eaf4aa80",
      "metadata": {
        "id": "96d418ca-5c11-43f4-b70c-c383eaf4aa80"
      },
      "outputs": [],
      "source": [
        "# Read the road geometery"
      ]
    },
    {
      "cell_type": "code",
      "execution_count": null,
      "id": "7e8d7004-96cc-4d54-a6e1-492d7f7b5f52",
      "metadata": {
        "id": "7e8d7004-96cc-4d54-a6e1-492d7f7b5f52"
      },
      "outputs": [],
      "source": [
        "!pip install geopandas pandas pyarrow"
      ]
    },
    {
      "cell_type": "code",
      "execution_count": 2,
      "id": "f2c5f976-4027-4b6d-8798-ccb82dd2e1a3",
      "metadata": {
        "id": "f2c5f976-4027-4b6d-8798-ccb82dd2e1a3"
      },
      "outputs": [],
      "source": [
        "import geopandas as gpd"
      ]
    },
    {
      "cell_type": "code",
      "execution_count": 56,
      "id": "24f9c84d-5b69-499e-9797-7f618655f66a",
      "metadata": {
        "id": "24f9c84d-5b69-499e-9797-7f618655f66a"
      },
      "outputs": [],
      "source": [
        "roads=gpd.read_file('USA_Tennessee.geojson')"
      ]
    },
    {
      "cell_type": "code",
      "execution_count": 59,
      "id": "2141b097-d901-4f1e-b4b2-882f3a6a603f",
      "metadata": {
        "id": "2141b097-d901-4f1e-b4b2-882f3a6a603f",
        "outputId": "95e253f4-6750-4720-c16b-828254baad0f",
        "colab": {
          "base_uri": "https://localhost:8080/",
          "height": 340
        }
      },
      "outputs": [
        {
          "output_type": "execute_result",
          "data": {
            "text/plain": [
              "       OID    XDSegID   PreviousXD   NextXDSegI FRC ToExport     Miles  \\\n",
              "0  7229828  136894283  441153578.0  441154707.0   4     None  0.475558   \n",
              "1  7229829  136894316          NaN          NaN   5     None  0.047735   \n",
              "\n",
              "    Lanes RoadNumber       RoadName  ... PrimaryTmc            RoadList  \\\n",
              "0  1.0225             KNOB CREEK RD  ...                  KNOB CREEK RD   \n",
              "1  1.1470                16TH ST SW  ...             16TH ST SW|16TH ST   \n",
              "\n",
              "   StartLat StartLong    EndLat   EndLong Bearing XDGroup ShapeSRID  \\\n",
              "0  36.35334 -82.42849  36.34747 -82.42857       E  765512      4326   \n",
              "1  35.95902 -83.93125  35.95965 -83.93160       N  765513      4326   \n",
              "\n",
              "                                            geometry  \n",
              "0  LINESTRING (-82.42849 36.35334, -82.42794 36.3...  \n",
              "1  LINESTRING (-83.93128 35.95901, -83.93158 35.9...  \n",
              "\n",
              "[2 rows x 28 columns]"
            ],
            "text/html": [
              "\n",
              "  <div id=\"df-25886cd3-db44-442e-9482-bf12494ccb07\">\n",
              "    <div class=\"colab-df-container\">\n",
              "      <div>\n",
              "<style scoped>\n",
              "    .dataframe tbody tr th:only-of-type {\n",
              "        vertical-align: middle;\n",
              "    }\n",
              "\n",
              "    .dataframe tbody tr th {\n",
              "        vertical-align: top;\n",
              "    }\n",
              "\n",
              "    .dataframe thead th {\n",
              "        text-align: right;\n",
              "    }\n",
              "</style>\n",
              "<table border=\"1\" class=\"dataframe\">\n",
              "  <thead>\n",
              "    <tr style=\"text-align: right;\">\n",
              "      <th></th>\n",
              "      <th>OID</th>\n",
              "      <th>XDSegID</th>\n",
              "      <th>PreviousXD</th>\n",
              "      <th>NextXDSegI</th>\n",
              "      <th>FRC</th>\n",
              "      <th>ToExport</th>\n",
              "      <th>Miles</th>\n",
              "      <th>Lanes</th>\n",
              "      <th>RoadNumber</th>\n",
              "      <th>RoadName</th>\n",
              "      <th>...</th>\n",
              "      <th>PrimaryTmc</th>\n",
              "      <th>RoadList</th>\n",
              "      <th>StartLat</th>\n",
              "      <th>StartLong</th>\n",
              "      <th>EndLat</th>\n",
              "      <th>EndLong</th>\n",
              "      <th>Bearing</th>\n",
              "      <th>XDGroup</th>\n",
              "      <th>ShapeSRID</th>\n",
              "      <th>geometry</th>\n",
              "    </tr>\n",
              "  </thead>\n",
              "  <tbody>\n",
              "    <tr>\n",
              "      <th>0</th>\n",
              "      <td>7229828</td>\n",
              "      <td>136894283</td>\n",
              "      <td>441153578.0</td>\n",
              "      <td>441154707.0</td>\n",
              "      <td>4</td>\n",
              "      <td>None</td>\n",
              "      <td>0.475558</td>\n",
              "      <td>1.0225</td>\n",
              "      <td></td>\n",
              "      <td>KNOB CREEK RD</td>\n",
              "      <td>...</td>\n",
              "      <td></td>\n",
              "      <td>KNOB CREEK RD</td>\n",
              "      <td>36.35334</td>\n",
              "      <td>-82.42849</td>\n",
              "      <td>36.34747</td>\n",
              "      <td>-82.42857</td>\n",
              "      <td>E</td>\n",
              "      <td>765512</td>\n",
              "      <td>4326</td>\n",
              "      <td>LINESTRING (-82.42849 36.35334, -82.42794 36.3...</td>\n",
              "    </tr>\n",
              "    <tr>\n",
              "      <th>1</th>\n",
              "      <td>7229829</td>\n",
              "      <td>136894316</td>\n",
              "      <td>NaN</td>\n",
              "      <td>NaN</td>\n",
              "      <td>5</td>\n",
              "      <td>None</td>\n",
              "      <td>0.047735</td>\n",
              "      <td>1.1470</td>\n",
              "      <td></td>\n",
              "      <td>16TH ST SW</td>\n",
              "      <td>...</td>\n",
              "      <td></td>\n",
              "      <td>16TH ST SW|16TH ST</td>\n",
              "      <td>35.95902</td>\n",
              "      <td>-83.93125</td>\n",
              "      <td>35.95965</td>\n",
              "      <td>-83.93160</td>\n",
              "      <td>N</td>\n",
              "      <td>765513</td>\n",
              "      <td>4326</td>\n",
              "      <td>LINESTRING (-83.93128 35.95901, -83.93158 35.9...</td>\n",
              "    </tr>\n",
              "  </tbody>\n",
              "</table>\n",
              "<p>2 rows × 28 columns</p>\n",
              "</div>\n",
              "      <button class=\"colab-df-convert\" onclick=\"convertToInteractive('df-25886cd3-db44-442e-9482-bf12494ccb07')\"\n",
              "              title=\"Convert this dataframe to an interactive table.\"\n",
              "              style=\"display:none;\">\n",
              "        \n",
              "  <svg xmlns=\"http://www.w3.org/2000/svg\" height=\"24px\"viewBox=\"0 0 24 24\"\n",
              "       width=\"24px\">\n",
              "    <path d=\"M0 0h24v24H0V0z\" fill=\"none\"/>\n",
              "    <path d=\"M18.56 5.44l.94 2.06.94-2.06 2.06-.94-2.06-.94-.94-2.06-.94 2.06-2.06.94zm-11 1L8.5 8.5l.94-2.06 2.06-.94-2.06-.94L8.5 2.5l-.94 2.06-2.06.94zm10 10l.94 2.06.94-2.06 2.06-.94-2.06-.94-.94-2.06-.94 2.06-2.06.94z\"/><path d=\"M17.41 7.96l-1.37-1.37c-.4-.4-.92-.59-1.43-.59-.52 0-1.04.2-1.43.59L10.3 9.45l-7.72 7.72c-.78.78-.78 2.05 0 2.83L4 21.41c.39.39.9.59 1.41.59.51 0 1.02-.2 1.41-.59l7.78-7.78 2.81-2.81c.8-.78.8-2.07 0-2.86zM5.41 20L4 18.59l7.72-7.72 1.47 1.35L5.41 20z\"/>\n",
              "  </svg>\n",
              "      </button>\n",
              "      \n",
              "  <style>\n",
              "    .colab-df-container {\n",
              "      display:flex;\n",
              "      flex-wrap:wrap;\n",
              "      gap: 12px;\n",
              "    }\n",
              "\n",
              "    .colab-df-convert {\n",
              "      background-color: #E8F0FE;\n",
              "      border: none;\n",
              "      border-radius: 50%;\n",
              "      cursor: pointer;\n",
              "      display: none;\n",
              "      fill: #1967D2;\n",
              "      height: 32px;\n",
              "      padding: 0 0 0 0;\n",
              "      width: 32px;\n",
              "    }\n",
              "\n",
              "    .colab-df-convert:hover {\n",
              "      background-color: #E2EBFA;\n",
              "      box-shadow: 0px 1px 2px rgba(60, 64, 67, 0.3), 0px 1px 3px 1px rgba(60, 64, 67, 0.15);\n",
              "      fill: #174EA6;\n",
              "    }\n",
              "\n",
              "    [theme=dark] .colab-df-convert {\n",
              "      background-color: #3B4455;\n",
              "      fill: #D2E3FC;\n",
              "    }\n",
              "\n",
              "    [theme=dark] .colab-df-convert:hover {\n",
              "      background-color: #434B5C;\n",
              "      box-shadow: 0px 1px 3px 1px rgba(0, 0, 0, 0.15);\n",
              "      filter: drop-shadow(0px 1px 2px rgba(0, 0, 0, 0.3));\n",
              "      fill: #FFFFFF;\n",
              "    }\n",
              "  </style>\n",
              "\n",
              "      <script>\n",
              "        const buttonEl =\n",
              "          document.querySelector('#df-25886cd3-db44-442e-9482-bf12494ccb07 button.colab-df-convert');\n",
              "        buttonEl.style.display =\n",
              "          google.colab.kernel.accessAllowed ? 'block' : 'none';\n",
              "\n",
              "        async function convertToInteractive(key) {\n",
              "          const element = document.querySelector('#df-25886cd3-db44-442e-9482-bf12494ccb07');\n",
              "          const dataTable =\n",
              "            await google.colab.kernel.invokeFunction('convertToInteractive',\n",
              "                                                     [key], {});\n",
              "          if (!dataTable) return;\n",
              "\n",
              "          const docLinkHtml = 'Like what you see? Visit the ' +\n",
              "            '<a target=\"_blank\" href=https://colab.research.google.com/notebooks/data_table.ipynb>data table notebook</a>'\n",
              "            + ' to learn more about interactive tables.';\n",
              "          element.innerHTML = '';\n",
              "          dataTable['output_type'] = 'display_data';\n",
              "          await google.colab.output.renderOutput(dataTable, element);\n",
              "          const docLink = document.createElement('div');\n",
              "          docLink.innerHTML = docLinkHtml;\n",
              "          element.appendChild(docLink);\n",
              "        }\n",
              "      </script>\n",
              "    </div>\n",
              "  </div>\n",
              "  "
            ]
          },
          "metadata": {},
          "execution_count": 59
        }
      ],
      "source": [
        "roads.head(2)"
      ]
    },
    {
      "cell_type": "code",
      "execution_count": 60,
      "id": "a8f45638-d838-4fb4-8f97-29ee33c07865",
      "metadata": {
        "id": "a8f45638-d838-4fb4-8f97-29ee33c07865",
        "outputId": "c4a54ae1-9329-4d49-a93d-af7491d0398a",
        "colab": {
          "base_uri": "https://localhost:8080/"
        }
      },
      "outputs": [
        {
          "output_type": "execute_result",
          "data": {
            "text/plain": [
              "Index(['OID', 'XDSegID', 'PreviousXD', 'NextXDSegI', 'FRC', 'ToExport',\n",
              "       'Miles', 'Lanes', 'RoadNumber', 'RoadName', 'Country', 'State',\n",
              "       'County', 'PostalCode', 'SlipRoad', 'SpecialRoa', 'IsConnecto',\n",
              "       'AllTmcList', 'PrimaryTmc', 'RoadList', 'StartLat', 'StartLong',\n",
              "       'EndLat', 'EndLong', 'Bearing', 'XDGroup', 'ShapeSRID', 'geometry'],\n",
              "      dtype='object')"
            ]
          },
          "metadata": {},
          "execution_count": 60
        }
      ],
      "source": [
        "roads.columns"
      ]
    },
    {
      "cell_type": "code",
      "source": [
        "roads.dtypes"
      ],
      "metadata": {
        "colab": {
          "base_uri": "https://localhost:8080/"
        },
        "id": "BMaClcmLCfeD",
        "outputId": "16bef13d-ec88-4793-c81f-81eda3439f8d"
      },
      "id": "BMaClcmLCfeD",
      "execution_count": 61,
      "outputs": [
        {
          "output_type": "execute_result",
          "data": {
            "text/plain": [
              "OID              int64\n",
              "XDSegID          int64\n",
              "PreviousXD     float64\n",
              "NextXDSegI     float64\n",
              "FRC             object\n",
              "ToExport        object\n",
              "Miles          float64\n",
              "Lanes          float64\n",
              "RoadNumber      object\n",
              "RoadName        object\n",
              "Country         object\n",
              "State           object\n",
              "County          object\n",
              "PostalCode      object\n",
              "SlipRoad        object\n",
              "SpecialRoa      object\n",
              "IsConnecto      object\n",
              "AllTmcList      object\n",
              "PrimaryTmc      object\n",
              "RoadList        object\n",
              "StartLat       float64\n",
              "StartLong      float64\n",
              "EndLat         float64\n",
              "EndLong        float64\n",
              "Bearing         object\n",
              "XDGroup          int64\n",
              "ShapeSRID        int64\n",
              "geometry      geometry\n",
              "dtype: object"
            ]
          },
          "metadata": {},
          "execution_count": 61
        }
      ]
    },
    {
      "cell_type": "code",
      "execution_count": 8,
      "id": "c3e80a75-aa90-4af1-8bf8-ff800ce5028c",
      "metadata": {
        "id": "c3e80a75-aa90-4af1-8bf8-ff800ce5028c"
      },
      "outputs": [],
      "source": [
        "#FRC describes the road kind. 1 are major interstates and 5 are very small roads. See https://docs.inrix.com/reference/glossary/"
      ]
    },
    {
      "cell_type": "code",
      "execution_count": 7,
      "id": "a6492b33-45f0-48b9-a34a-355078e0aad1",
      "metadata": {
        "id": "a6492b33-45f0-48b9-a34a-355078e0aad1"
      },
      "outputs": [],
      "source": [
        "roads=roads[roads.County=='DAVIDSON']"
      ]
    },
    {
      "cell_type": "code",
      "execution_count": 9,
      "id": "cc621fbd-0198-4340-9ab9-7eeb6cf0c092",
      "metadata": {
        "id": "cc621fbd-0198-4340-9ab9-7eeb6cf0c092",
        "outputId": "dde15d1b-49af-4ff4-cbae-3635d02dbbaf",
        "colab": {
          "base_uri": "https://localhost:8080/",
          "height": 282
        }
      },
      "outputs": [
        {
          "output_type": "execute_result",
          "data": {
            "text/plain": [
              "<matplotlib.axes._subplots.AxesSubplot at 0x7f685b3c3290>"
            ]
          },
          "metadata": {},
          "execution_count": 9
        },
        {
          "output_type": "display_data",
          "data": {
            "text/plain": [
              "<Figure size 432x288 with 1 Axes>"
            ],
            "image/png": "[encoded data removed]"
          },
          "metadata": {
            "needs_background": "light"
          }
        }
      ],
      "source": [
        "roads.plot()"
      ]
    },
    {
      "cell_type": "code",
      "execution_count": 10,
      "id": "eec3f3bc-3ed5-404a-9c24-b1a7adf1626f",
      "metadata": {
        "id": "eec3f3bc-3ed5-404a-9c24-b1a7adf1626f",
        "outputId": "18ee1871-9258-45dc-9be5-b716443a2781",
        "colab": {
          "base_uri": "https://localhost:8080/"
        }
      },
      "outputs": [
        {
          "output_type": "execute_result",
          "data": {
            "text/plain": [
              "9033     LINESTRING (-86.75077 36.17116, -86.75076 36.1...\n",
              "9045     LINESTRING (-86.77000 36.11989, -86.77046 36.1...\n",
              "9051     LINESTRING (-86.77935 36.03619, -86.77935 36.0...\n",
              "9055     LINESTRING (-86.75020 36.15446, -86.75019 36.1...\n",
              "9056     LINESTRING (-86.71250 36.32843, -86.71272 36.3...\n",
              "                               ...                        \n",
              "94650    LINESTRING (-86.76221 36.16760, -86.76275 36.1...\n",
              "94789    LINESTRING (-86.77707 36.12617, -86.77705 36.1...\n",
              "94794    LINESTRING (-86.84079 36.15400, -86.84201 36.1...\n",
              "94893    LINESTRING (-86.74435 36.14281, -86.74437 36.1...\n",
              "95025    LINESTRING (-86.70474 36.12184, -86.70476 36.1...\n",
              "Name: geometry, Length: 8641, dtype: geometry"
            ]
          },
          "metadata": {},
          "execution_count": 10
        }
      ],
      "source": [
        "roads.geometry # these are the line strings describing the road."
      ]
    },
    {
      "cell_type": "code",
      "execution_count": 11,
      "id": "bf8ef24c-aed2-41d7-bbe9-2e753256bdf9",
      "metadata": {
        "id": "bf8ef24c-aed2-41d7-bbe9-2e753256bdf9"
      },
      "outputs": [],
      "source": [
        "# Lets read incident data"
      ]
    },
    {
      "cell_type": "code",
      "execution_count": 12,
      "id": "3da89679-5f81-4817-8169-149cc8161ccf",
      "metadata": {
        "id": "3da89679-5f81-4817-8169-149cc8161ccf"
      },
      "outputs": [],
      "source": [
        "import pandas as pd"
      ]
    },
    {
      "cell_type": "code",
      "execution_count": 62,
      "id": "a0456df5-054d-4fca-8b1e-848a59303910",
      "metadata": {
        "id": "a0456df5-054d-4fca-8b1e-848a59303910"
      },
      "outputs": [],
      "source": [
        "incidents=pd.read_parquet('nfd_incidents_xd_seg.parquet')"
      ]
    },
    {
      "cell_type": "code",
      "execution_count": 14,
      "id": "16cfdcb8-79a0-48ab-a2d0-5a420d672cec",
      "metadata": {
        "id": "16cfdcb8-79a0-48ab-a2d0-5a420d672cec"
      },
      "outputs": [],
      "source": [
        "import shapely"
      ]
    },
    {
      "cell_type": "code",
      "execution_count": 15,
      "id": "fc1009af-62c9-4932-8b9d-99243a597460",
      "metadata": {
        "id": "fc1009af-62c9-4932-8b9d-99243a597460"
      },
      "outputs": [],
      "source": [
        "incidents['geometry']=incidents.geometry.apply(shapely.wkt.loads)"
      ]
    },
    {
      "cell_type": "code",
      "execution_count": 16,
      "id": "c6086192-e7c6-4633-ae29-8daeaa8617c6",
      "metadata": {
        "id": "c6086192-e7c6-4633-ae29-8daeaa8617c6"
      },
      "outputs": [],
      "source": [
        "incidents = gpd.GeoDataFrame(incidents,geometry=incidents.geometry)"
      ]
    },
    {
      "cell_type": "code",
      "execution_count": 63,
      "id": "a13aabe5-663c-487e-a8f3-6b8d0df50b14",
      "metadata": {
        "id": "a13aabe5-663c-487e-a8f3-6b8d0df50b14",
        "outputId": "a3540fc6-f74e-429c-acae-56dbaf817d36",
        "colab": {
          "base_uri": "https://localhost:8080/",
          "height": 243
        }
      },
      "outputs": [
        {
          "output_type": "execute_result",
          "data": {
            "text/plain": [
              "                          ID_Original   latitude  longitude emdCardNumber  \\\n",
              "0  ObjectId(59d3a81908f47311c891f8e2)  36.037228 -86.783243          29B5   \n",
              "1  ObjectId(59d3a81908f47311c891f8e6)  36.037414 -86.786572         29D2P   \n",
              "\n",
              "                 time_utc              time_local  response_time_sec  \\\n",
              "0 2017-01-01 07:59:29.507 2017-01-01 01:59:29.507              268.0   \n",
              "1 2017-01-01 08:30:55.000 2017-01-01 02:30:55.000              512.0   \n",
              "\n",
              "   day_of_week  weekend_or_not                          geometry  Incident_ID  \\\n",
              "0            6               1  POINT (-86.78324314 36.03722849)           10   \n",
              "1            6               1  POINT (-86.78657189 36.03741402)           11   \n",
              "\n",
              "   Dist_to_Seg       XDSegID  \n",
              "0    13.550370  1.524394e+09  \n",
              "1     3.663952  1.524356e+09  "
            ],
            "text/html": [
              "\n",
              "  <div id=\"df-0871b4c0-a784-4665-bd50-6ca8b5d2c6eb\">\n",
              "    <div class=\"colab-df-container\">\n",
              "      <div>\n",
              "<style scoped>\n",
              "    .dataframe tbody tr th:only-of-type {\n",
              "        vertical-align: middle;\n",
              "    }\n",
              "\n",
              "    .dataframe tbody tr th {\n",
              "        vertical-align: top;\n",
              "    }\n",
              "\n",
              "    .dataframe thead th {\n",
              "        text-align: right;\n",
              "    }\n",
              "</style>\n",
              "<table border=\"1\" class=\"dataframe\">\n",
              "  <thead>\n",
              "    <tr style=\"text-align: right;\">\n",
              "      <th></th>\n",
              "      <th>ID_Original</th>\n",
              "      <th>latitude</th>\n",
              "      <th>longitude</th>\n",
              "      <th>emdCardNumber</th>\n",
              "      <th>time_utc</th>\n",
              "      <th>time_local</th>\n",
              "      <th>response_time_sec</th>\n",
              "      <th>day_of_week</th>\n",
              "      <th>weekend_or_not</th>\n",
              "      <th>geometry</th>\n",
              "      <th>Incident_ID</th>\n",
              "      <th>Dist_to_Seg</th>\n",
              "      <th>XDSegID</th>\n",
              "    </tr>\n",
              "  </thead>\n",
              "  <tbody>\n",
              "    <tr>\n",
              "      <th>0</th>\n",
              "      <td>ObjectId(59d3a81908f47311c891f8e2)</td>\n",
              "      <td>36.037228</td>\n",
              "      <td>-86.783243</td>\n",
              "      <td>29B5</td>\n",
              "      <td>2017-01-01 07:59:29.507</td>\n",
              "      <td>2017-01-01 01:59:29.507</td>\n",
              "      <td>268.0</td>\n",
              "      <td>6</td>\n",
              "      <td>1</td>\n",
              "      <td>POINT (-86.78324314 36.03722849)</td>\n",
              "      <td>10</td>\n",
              "      <td>13.550370</td>\n",
              "      <td>1.524394e+09</td>\n",
              "    </tr>\n",
              "    <tr>\n",
              "      <th>1</th>\n",
              "      <td>ObjectId(59d3a81908f47311c891f8e6)</td>\n",
              "      <td>36.037414</td>\n",
              "      <td>-86.786572</td>\n",
              "      <td>29D2P</td>\n",
              "      <td>2017-01-01 08:30:55.000</td>\n",
              "      <td>2017-01-01 02:30:55.000</td>\n",
              "      <td>512.0</td>\n",
              "      <td>6</td>\n",
              "      <td>1</td>\n",
              "      <td>POINT (-86.78657189 36.03741402)</td>\n",
              "      <td>11</td>\n",
              "      <td>3.663952</td>\n",
              "      <td>1.524356e+09</td>\n",
              "    </tr>\n",
              "  </tbody>\n",
              "</table>\n",
              "</div>\n",
              "      <button class=\"colab-df-convert\" onclick=\"convertToInteractive('df-0871b4c0-a784-4665-bd50-6ca8b5d2c6eb')\"\n",
              "              title=\"Convert this dataframe to an interactive table.\"\n",
              "              style=\"display:none;\">\n",
              "        \n",
              "  <svg xmlns=\"http://www.w3.org/2000/svg\" height=\"24px\"viewBox=\"0 0 24 24\"\n",
              "       width=\"24px\">\n",
              "    <path d=\"M0 0h24v24H0V0z\" fill=\"none\"/>\n",
              "    <path d=\"M18.56 5.44l.94 2.06.94-2.06 2.06-.94-2.06-.94-.94-2.06-.94 2.06-2.06.94zm-11 1L8.5 8.5l.94-2.06 2.06-.94-2.06-.94L8.5 2.5l-.94 2.06-2.06.94zm10 10l.94 2.06.94-2.06 2.06-.94-2.06-.94-.94-2.06-.94 2.06-2.06.94z\"/><path d=\"M17.41 7.96l-1.37-1.37c-.4-.4-.92-.59-1.43-.59-.52 0-1.04.2-1.43.59L10.3 9.45l-7.72 7.72c-.78.78-.78 2.05 0 2.83L4 21.41c.39.39.9.59 1.41.59.51 0 1.02-.2 1.41-.59l7.78-7.78 2.81-2.81c.8-.78.8-2.07 0-2.86zM5.41 20L4 18.59l7.72-7.72 1.47 1.35L5.41 20z\"/>\n",
              "  </svg>\n",
              "      </button>\n",
              "      \n",
              "  <style>\n",
              "    .colab-df-container {\n",
              "      display:flex;\n",
              "      flex-wrap:wrap;\n",
              "      gap: 12px;\n",
              "    }\n",
              "\n",
              "    .colab-df-convert {\n",
              "      background-color: #E8F0FE;\n",
              "      border: none;\n",
              "      border-radius: 50%;\n",
              "      cursor: pointer;\n",
              "      display: none;\n",
              "      fill: #1967D2;\n",
              "      height: 32px;\n",
              "      padding: 0 0 0 0;\n",
              "      width: 32px;\n",
              "    }\n",
              "\n",
              "    .colab-df-convert:hover {\n",
              "      background-color: #E2EBFA;\n",
              "      box-shadow: 0px 1px 2px rgba(60, 64, 67, 0.3), 0px 1px 3px 1px rgba(60, 64, 67, 0.15);\n",
              "      fill: #174EA6;\n",
              "    }\n",
              "\n",
              "    [theme=dark] .colab-df-convert {\n",
              "      background-color: #3B4455;\n",
              "      fill: #D2E3FC;\n",
              "    }\n",
              "\n",
              "    [theme=dark] .colab-df-convert:hover {\n",
              "      background-color: #434B5C;\n",
              "      box-shadow: 0px 1px 3px 1px rgba(0, 0, 0, 0.15);\n",
              "      filter: drop-shadow(0px 1px 2px rgba(0, 0, 0, 0.3));\n",
              "      fill: #FFFFFF;\n",
              "    }\n",
              "  </style>\n",
              "\n",
              "      <script>\n",
              "        const buttonEl =\n",
              "          document.querySelector('#df-0871b4c0-a784-4665-bd50-6ca8b5d2c6eb button.colab-df-convert');\n",
              "        buttonEl.style.display =\n",
              "          google.colab.kernel.accessAllowed ? 'block' : 'none';\n",
              "\n",
              "        async function convertToInteractive(key) {\n",
              "          const element = document.querySelector('#df-0871b4c0-a784-4665-bd50-6ca8b5d2c6eb');\n",
              "          const dataTable =\n",
              "            await google.colab.kernel.invokeFunction('convertToInteractive',\n",
              "                                                     [key], {});\n",
              "          if (!dataTable) return;\n",
              "\n",
              "          const docLinkHtml = 'Like what you see? Visit the ' +\n",
              "            '<a target=\"_blank\" href=https://colab.research.google.com/notebooks/data_table.ipynb>data table notebook</a>'\n",
              "            + ' to learn more about interactive tables.';\n",
              "          element.innerHTML = '';\n",
              "          dataTable['output_type'] = 'display_data';\n",
              "          await google.colab.output.renderOutput(dataTable, element);\n",
              "          const docLink = document.createElement('div');\n",
              "          docLink.innerHTML = docLinkHtml;\n",
              "          element.appendChild(docLink);\n",
              "        }\n",
              "      </script>\n",
              "    </div>\n",
              "  </div>\n",
              "  "
            ]
          },
          "metadata": {},
          "execution_count": 63
        }
      ],
      "source": [
        "incidents.head(2)"
      ]
    },
    {
      "cell_type": "code",
      "execution_count": 18,
      "id": "22b279a7-bf5f-4681-8b9e-fad1dae23619",
      "metadata": {
        "id": "22b279a7-bf5f-4681-8b9e-fad1dae23619",
        "outputId": "1b558cc6-07ad-426e-c04e-ca363ff5fe4e",
        "colab": {
          "base_uri": "https://localhost:8080/",
          "height": 282
        }
      },
      "outputs": [
        {
          "output_type": "execute_result",
          "data": {
            "text/plain": [
              "<matplotlib.axes._subplots.AxesSubplot at 0x7f685afb0310>"
            ]
          },
          "metadata": {},
          "execution_count": 18
        },
        {
          "output_type": "display_data",
          "data": {
            "text/plain": [
              "<Figure size 432x288 with 1 Axes>"
            ],
            "image/png": "[encoded data removed]"
          },
          "metadata": {
            "needs_background": "light"
          }
        }
      ],
      "source": [
        "incidents.plot()"
      ]
    },
    {
      "cell_type": "code",
      "source": [
        "!pip install pandas fiona shapely pyproj rtree"
      ],
      "metadata": {
        "id": "7ivbW2zKf58s"
      },
      "id": "7ivbW2zKf58s",
      "execution_count": null,
      "outputs": []
    },
    {
      "cell_type": "code",
      "source": [
        "!pip install geopandas"
      ],
      "metadata": {
        "id": "1gy3QAFnf8VD"
      },
      "id": "1gy3QAFnf8VD",
      "execution_count": null,
      "outputs": []
    },
    {
      "cell_type": "code",
      "source": [
        "results = roads.merge(incidents, on=\"XDSegID\")"
      ],
      "metadata": {
        "id": "PbYhykULeV5e"
      },
      "id": "PbYhykULeV5e",
      "execution_count": 64,
      "outputs": []
    },
    {
      "cell_type": "code",
      "source": [
        "results.head(1)"
      ],
      "metadata": {
        "id": "Ts4dbaY2ehB-",
        "colab": {
          "base_uri": "https://localhost:8080/",
          "height": 207
        },
        "outputId": "11c79d08-33f3-4cfa-8985-260f06320019"
      },
      "id": "Ts4dbaY2ehB-",
      "execution_count": 65,
      "outputs": [
        {
          "output_type": "execute_result",
          "data": {
            "text/plain": [
              "       OID    XDSegID  PreviousXD  NextXDSegI FRC ToExport     Miles  Lanes  \\\n",
              "0  8073455  155711459         NaN         NaN   5     None  0.028749    NaN   \n",
              "\n",
              "  RoadNumber  RoadName  ...  longitude emdCardNumber                time_utc  \\\n",
              "0             BERRY RD  ... -86.770009         29D2L 2020-07-04 03:42:22.387   \n",
              "\n",
              "               time_local response_time_sec day_of_week weekend_or_not  \\\n",
              "0 2020-07-03 22:42:22.387             356.0           4              0   \n",
              "\n",
              "                        geometry_y Incident_ID Dist_to_Seg  \n",
              "0  POINT (-86.77000923 36.1198734)       23833     2.63476  \n",
              "\n",
              "[1 rows x 40 columns]"
            ],
            "text/html": [
              "\n",
              "  <div id=\"df-c4a6bf85-b6ac-493c-ae1a-7f9c98f2822e\">\n",
              "    <div class=\"colab-df-container\">\n",
              "      <div>\n",
              "<style scoped>\n",
              "    .dataframe tbody tr th:only-of-type {\n",
              "        vertical-align: middle;\n",
              "    }\n",
              "\n",
              "    .dataframe tbody tr th {\n",
              "        vertical-align: top;\n",
              "    }\n",
              "\n",
              "    .dataframe thead th {\n",
              "        text-align: right;\n",
              "    }\n",
              "</style>\n",
              "<table border=\"1\" class=\"dataframe\">\n",
              "  <thead>\n",
              "    <tr style=\"text-align: right;\">\n",
              "      <th></th>\n",
              "      <th>OID</th>\n",
              "      <th>XDSegID</th>\n",
              "      <th>PreviousXD</th>\n",
              "      <th>NextXDSegI</th>\n",
              "      <th>FRC</th>\n",
              "      <th>ToExport</th>\n",
              "      <th>Miles</th>\n",
              "      <th>Lanes</th>\n",
              "      <th>RoadNumber</th>\n",
              "      <th>RoadName</th>\n",
              "      <th>...</th>\n",
              "      <th>longitude</th>\n",
              "      <th>emdCardNumber</th>\n",
              "      <th>time_utc</th>\n",
              "      <th>time_local</th>\n",
              "      <th>response_time_sec</th>\n",
              "      <th>day_of_week</th>\n",
              "      <th>weekend_or_not</th>\n",
              "      <th>geometry_y</th>\n",
              "      <th>Incident_ID</th>\n",
              "      <th>Dist_to_Seg</th>\n",
              "    </tr>\n",
              "  </thead>\n",
              "  <tbody>\n",
              "    <tr>\n",
              "      <th>0</th>\n",
              "      <td>8073455</td>\n",
              "      <td>155711459</td>\n",
              "      <td>NaN</td>\n",
              "      <td>NaN</td>\n",
              "      <td>5</td>\n",
              "      <td>None</td>\n",
              "      <td>0.028749</td>\n",
              "      <td>NaN</td>\n",
              "      <td></td>\n",
              "      <td>BERRY RD</td>\n",
              "      <td>...</td>\n",
              "      <td>-86.770009</td>\n",
              "      <td>29D2L</td>\n",
              "      <td>2020-07-04 03:42:22.387</td>\n",
              "      <td>2020-07-03 22:42:22.387</td>\n",
              "      <td>356.0</td>\n",
              "      <td>4</td>\n",
              "      <td>0</td>\n",
              "      <td>POINT (-86.77000923 36.1198734)</td>\n",
              "      <td>23833</td>\n",
              "      <td>2.63476</td>\n",
              "    </tr>\n",
              "  </tbody>\n",
              "</table>\n",
              "<p>1 rows × 40 columns</p>\n",
              "</div>\n",
              "      <button class=\"colab-df-convert\" onclick=\"convertToInteractive('df-c4a6bf85-b6ac-493c-ae1a-7f9c98f2822e')\"\n",
              "              title=\"Convert this dataframe to an interactive table.\"\n",
              "              style=\"display:none;\">\n",
              "        \n",
              "  <svg xmlns=\"http://www.w3.org/2000/svg\" height=\"24px\"viewBox=\"0 0 24 24\"\n",
              "       width=\"24px\">\n",
              "    <path d=\"M0 0h24v24H0V0z\" fill=\"none\"/>\n",
              "    <path d=\"M18.56 5.44l.94 2.06.94-2.06 2.06-.94-2.06-.94-.94-2.06-.94 2.06-2.06.94zm-11 1L8.5 8.5l.94-2.06 2.06-.94-2.06-.94L8.5 2.5l-.94 2.06-2.06.94zm10 10l.94 2.06.94-2.06 2.06-.94-2.06-.94-.94-2.06-.94 2.06-2.06.94z\"/><path d=\"M17.41 7.96l-1.37-1.37c-.4-.4-.92-.59-1.43-.59-.52 0-1.04.2-1.43.59L10.3 9.45l-7.72 7.72c-.78.78-.78 2.05 0 2.83L4 21.41c.39.39.9.59 1.41.59.51 0 1.02-.2 1.41-.59l7.78-7.78 2.81-2.81c.8-.78.8-2.07 0-2.86zM5.41 20L4 18.59l7.72-7.72 1.47 1.35L5.41 20z\"/>\n",
              "  </svg>\n",
              "      </button>\n",
              "      \n",
              "  <style>\n",
              "    .colab-df-container {\n",
              "      display:flex;\n",
              "      flex-wrap:wrap;\n",
              "      gap: 12px;\n",
              "    }\n",
              "\n",
              "    .colab-df-convert {\n",
              "      background-color: #E8F0FE;\n",
              "      border: none;\n",
              "      border-radius: 50%;\n",
              "      cursor: pointer;\n",
              "      display: none;\n",
              "      fill: #1967D2;\n",
              "      height: 32px;\n",
              "      padding: 0 0 0 0;\n",
              "      width: 32px;\n",
              "    }\n",
              "\n",
              "    .colab-df-convert:hover {\n",
              "      background-color: #E2EBFA;\n",
              "      box-shadow: 0px 1px 2px rgba(60, 64, 67, 0.3), 0px 1px 3px 1px rgba(60, 64, 67, 0.15);\n",
              "      fill: #174EA6;\n",
              "    }\n",
              "\n",
              "    [theme=dark] .colab-df-convert {\n",
              "      background-color: #3B4455;\n",
              "      fill: #D2E3FC;\n",
              "    }\n",
              "\n",
              "    [theme=dark] .colab-df-convert:hover {\n",
              "      background-color: #434B5C;\n",
              "      box-shadow: 0px 1px 3px 1px rgba(0, 0, 0, 0.15);\n",
              "      filter: drop-shadow(0px 1px 2px rgba(0, 0, 0, 0.3));\n",
              "      fill: #FFFFFF;\n",
              "    }\n",
              "  </style>\n",
              "\n",
              "      <script>\n",
              "        const buttonEl =\n",
              "          document.querySelector('#df-c4a6bf85-b6ac-493c-ae1a-7f9c98f2822e button.colab-df-convert');\n",
              "        buttonEl.style.display =\n",
              "          google.colab.kernel.accessAllowed ? 'block' : 'none';\n",
              "\n",
              "        async function convertToInteractive(key) {\n",
              "          const element = document.querySelector('#df-c4a6bf85-b6ac-493c-ae1a-7f9c98f2822e');\n",
              "          const dataTable =\n",
              "            await google.colab.kernel.invokeFunction('convertToInteractive',\n",
              "                                                     [key], {});\n",
              "          if (!dataTable) return;\n",
              "\n",
              "          const docLinkHtml = 'Like what you see? Visit the ' +\n",
              "            '<a target=\"_blank\" href=https://colab.research.google.com/notebooks/data_table.ipynb>data table notebook</a>'\n",
              "            + ' to learn more about interactive tables.';\n",
              "          element.innerHTML = '';\n",
              "          dataTable['output_type'] = 'display_data';\n",
              "          await google.colab.output.renderOutput(dataTable, element);\n",
              "          const docLink = document.createElement('div');\n",
              "          docLink.innerHTML = docLinkHtml;\n",
              "          element.appendChild(docLink);\n",
              "        }\n",
              "      </script>\n",
              "    </div>\n",
              "  </div>\n",
              "  "
            ]
          },
          "metadata": {},
          "execution_count": 65
        }
      ]
    },
    {
      "cell_type": "code",
      "source": [
        "results.dtypes"
      ],
      "metadata": {
        "colab": {
          "base_uri": "https://localhost:8080/"
        },
        "id": "VpmyqAMAoVce",
        "outputId": "9faca716-de7f-42b1-cae2-a30eecac1c21"
      },
      "id": "VpmyqAMAoVce",
      "execution_count": 66,
      "outputs": [
        {
          "output_type": "execute_result",
          "data": {
            "text/plain": [
              "OID                           int64\n",
              "XDSegID                       int64\n",
              "PreviousXD                  float64\n",
              "NextXDSegI                  float64\n",
              "FRC                          object\n",
              "ToExport                     object\n",
              "Miles                       float64\n",
              "Lanes                       float64\n",
              "RoadNumber                   object\n",
              "RoadName                     object\n",
              "Country                      object\n",
              "State                        object\n",
              "County                       object\n",
              "PostalCode                   object\n",
              "SlipRoad                     object\n",
              "SpecialRoa                   object\n",
              "IsConnecto                   object\n",
              "AllTmcList                   object\n",
              "PrimaryTmc                   object\n",
              "RoadList                     object\n",
              "StartLat                    float64\n",
              "StartLong                   float64\n",
              "EndLat                      float64\n",
              "EndLong                     float64\n",
              "Bearing                      object\n",
              "XDGroup                       int64\n",
              "ShapeSRID                     int64\n",
              "geometry_x                 geometry\n",
              "ID_Original                  object\n",
              "latitude                    float64\n",
              "longitude                   float64\n",
              "emdCardNumber                object\n",
              "time_utc             datetime64[ns]\n",
              "time_local           datetime64[ns]\n",
              "response_time_sec           float64\n",
              "day_of_week                   int64\n",
              "weekend_or_not                int32\n",
              "geometry_y                   object\n",
              "Incident_ID                   int32\n",
              "Dist_to_Seg                 float64\n",
              "dtype: object"
            ]
          },
          "metadata": {},
          "execution_count": 66
        }
      ]
    },
    {
      "cell_type": "code",
      "source": [
        "results = results[(results[\"response_time_sec\"]>0) & (results[\"Dist_to_Seg\"]>0)]"
      ],
      "metadata": {
        "id": "pVHQrMT_qh1N"
      },
      "id": "pVHQrMT_qh1N",
      "execution_count": 67,
      "outputs": []
    },
    {
      "cell_type": "code",
      "source": [
        "temp = results.groupby(['PostalCode']).response_time_sec.agg(['max', 'min', 'count', 'median', 'mean'])"
      ],
      "metadata": {
        "id": "Z1g1lkBzpU3d"
      },
      "id": "Z1g1lkBzpU3d",
      "execution_count": 68,
      "outputs": []
    },
    {
      "cell_type": "code",
      "source": [
        "temp.sort_values(by=['median'], ascending=False).head(10)"
      ],
      "metadata": {
        "colab": {
          "base_uri": "https://localhost:8080/",
          "height": 390
        },
        "id": "XQ3fR5WupgZb",
        "outputId": "1f22a935-c813-48c6-9550-3427b2ab848b"
      },
      "id": "XQ3fR5WupgZb",
      "execution_count": 69,
      "outputs": [
        {
          "output_type": "execute_result",
          "data": {
            "text/plain": [
              "               max    min  count  median        mean\n",
              "PostalCode                                          \n",
              "37122       1123.0   63.0      8   610.5  624.125000\n",
              "37189       2000.0   27.0    263   558.0  619.498099\n",
              "37073        550.0  550.0      1   550.0  550.000000\n",
              "37086       2159.0  253.0     49   495.0  593.591837\n",
              "37080       2222.0    8.0    178   494.5  570.780899\n",
              "37027       2696.0    5.0    368   487.5  533.260870\n",
              "37076       2244.0    1.0    687   421.0  465.465793\n",
              "37221       2079.0    4.0    467   419.0  488.809422\n",
              "37228       2314.0    6.0    173   404.0  471.988439\n",
              "37220       1444.0    4.0    254   398.0  435.224409"
            ],
            "text/html": [
              "\n",
              "  <div id=\"df-59c4f1b8-731e-4ce6-a710-657e188cdd9d\">\n",
              "    <div class=\"colab-df-container\">\n",
              "      <div>\n",
              "<style scoped>\n",
              "    .dataframe tbody tr th:only-of-type {\n",
              "        vertical-align: middle;\n",
              "    }\n",
              "\n",
              "    .dataframe tbody tr th {\n",
              "        vertical-align: top;\n",
              "    }\n",
              "\n",
              "    .dataframe thead th {\n",
              "        text-align: right;\n",
              "    }\n",
              "</style>\n",
              "<table border=\"1\" class=\"dataframe\">\n",
              "  <thead>\n",
              "    <tr style=\"text-align: right;\">\n",
              "      <th></th>\n",
              "      <th>max</th>\n",
              "      <th>min</th>\n",
              "      <th>count</th>\n",
              "      <th>median</th>\n",
              "      <th>mean</th>\n",
              "    </tr>\n",
              "    <tr>\n",
              "      <th>PostalCode</th>\n",
              "      <th></th>\n",
              "      <th></th>\n",
              "      <th></th>\n",
              "      <th></th>\n",
              "      <th></th>\n",
              "    </tr>\n",
              "  </thead>\n",
              "  <tbody>\n",
              "    <tr>\n",
              "      <th>37122</th>\n",
              "      <td>1123.0</td>\n",
              "      <td>63.0</td>\n",
              "      <td>8</td>\n",
              "      <td>610.5</td>\n",
              "      <td>624.125000</td>\n",
              "    </tr>\n",
              "    <tr>\n",
              "      <th>37189</th>\n",
              "      <td>2000.0</td>\n",
              "      <td>27.0</td>\n",
              "      <td>263</td>\n",
              "      <td>558.0</td>\n",
              "      <td>619.498099</td>\n",
              "    </tr>\n",
              "    <tr>\n",
              "      <th>37073</th>\n",
              "      <td>550.0</td>\n",
              "      <td>550.0</td>\n",
              "      <td>1</td>\n",
              "      <td>550.0</td>\n",
              "      <td>550.000000</td>\n",
              "    </tr>\n",
              "    <tr>\n",
              "      <th>37086</th>\n",
              "      <td>2159.0</td>\n",
              "      <td>253.0</td>\n",
              "      <td>49</td>\n",
              "      <td>495.0</td>\n",
              "      <td>593.591837</td>\n",
              "    </tr>\n",
              "    <tr>\n",
              "      <th>37080</th>\n",
              "      <td>2222.0</td>\n",
              "      <td>8.0</td>\n",
              "      <td>178</td>\n",
              "      <td>494.5</td>\n",
              "      <td>570.780899</td>\n",
              "    </tr>\n",
              "    <tr>\n",
              "      <th>37027</th>\n",
              "      <td>2696.0</td>\n",
              "      <td>5.0</td>\n",
              "      <td>368</td>\n",
              "      <td>487.5</td>\n",
              "      <td>533.260870</td>\n",
              "    </tr>\n",
              "    <tr>\n",
              "      <th>37076</th>\n",
              "      <td>2244.0</td>\n",
              "      <td>1.0</td>\n",
              "      <td>687</td>\n",
              "      <td>421.0</td>\n",
              "      <td>465.465793</td>\n",
              "    </tr>\n",
              "    <tr>\n",
              "      <th>37221</th>\n",
              "      <td>2079.0</td>\n",
              "      <td>4.0</td>\n",
              "      <td>467</td>\n",
              "      <td>419.0</td>\n",
              "      <td>488.809422</td>\n",
              "    </tr>\n",
              "    <tr>\n",
              "      <th>37228</th>\n",
              "      <td>2314.0</td>\n",
              "      <td>6.0</td>\n",
              "      <td>173</td>\n",
              "      <td>404.0</td>\n",
              "      <td>471.988439</td>\n",
              "    </tr>\n",
              "    <tr>\n",
              "      <th>37220</th>\n",
              "      <td>1444.0</td>\n",
              "      <td>4.0</td>\n",
              "      <td>254</td>\n",
              "      <td>398.0</td>\n",
              "      <td>435.224409</td>\n",
              "    </tr>\n",
              "  </tbody>\n",
              "</table>\n",
              "</div>\n",
              "      <button class=\"colab-df-convert\" onclick=\"convertToInteractive('df-59c4f1b8-731e-4ce6-a710-657e188cdd9d')\"\n",
              "              title=\"Convert this dataframe to an interactive table.\"\n",
              "              style=\"display:none;\">\n",
              "        \n",
              "  <svg xmlns=\"http://www.w3.org/2000/svg\" height=\"24px\"viewBox=\"0 0 24 24\"\n",
              "       width=\"24px\">\n",
              "    <path d=\"M0 0h24v24H0V0z\" fill=\"none\"/>\n",
              "    <path d=\"M18.56 5.44l.94 2.06.94-2.06 2.06-.94-2.06-.94-.94-2.06-.94 2.06-2.06.94zm-11 1L8.5 8.5l.94-2.06 2.06-.94-2.06-.94L8.5 2.5l-.94 2.06-2.06.94zm10 10l.94 2.06.94-2.06 2.06-.94-2.06-.94-.94-2.06-.94 2.06-2.06.94z\"/><path d=\"M17.41 7.96l-1.37-1.37c-.4-.4-.92-.59-1.43-.59-.52 0-1.04.2-1.43.59L10.3 9.45l-7.72 7.72c-.78.78-.78 2.05 0 2.83L4 21.41c.39.39.9.59 1.41.59.51 0 1.02-.2 1.41-.59l7.78-7.78 2.81-2.81c.8-.78.8-2.07 0-2.86zM5.41 20L4 18.59l7.72-7.72 1.47 1.35L5.41 20z\"/>\n",
              "  </svg>\n",
              "      </button>\n",
              "      \n",
              "  <style>\n",
              "    .colab-df-container {\n",
              "      display:flex;\n",
              "      flex-wrap:wrap;\n",
              "      gap: 12px;\n",
              "    }\n",
              "\n",
              "    .colab-df-convert {\n",
              "      background-color: #E8F0FE;\n",
              "      border: none;\n",
              "      border-radius: 50%;\n",
              "      cursor: pointer;\n",
              "      display: none;\n",
              "      fill: #1967D2;\n",
              "      height: 32px;\n",
              "      padding: 0 0 0 0;\n",
              "      width: 32px;\n",
              "    }\n",
              "\n",
              "    .colab-df-convert:hover {\n",
              "      background-color: #E2EBFA;\n",
              "      box-shadow: 0px 1px 2px rgba(60, 64, 67, 0.3), 0px 1px 3px 1px rgba(60, 64, 67, 0.15);\n",
              "      fill: #174EA6;\n",
              "    }\n",
              "\n",
              "    [theme=dark] .colab-df-convert {\n",
              "      background-color: #3B4455;\n",
              "      fill: #D2E3FC;\n",
              "    }\n",
              "\n",
              "    [theme=dark] .colab-df-convert:hover {\n",
              "      background-color: #434B5C;\n",
              "      box-shadow: 0px 1px 3px 1px rgba(0, 0, 0, 0.15);\n",
              "      filter: drop-shadow(0px 1px 2px rgba(0, 0, 0, 0.3));\n",
              "      fill: #FFFFFF;\n",
              "    }\n",
              "  </style>\n",
              "\n",
              "      <script>\n",
              "        const buttonEl =\n",
              "          document.querySelector('#df-59c4f1b8-731e-4ce6-a710-657e188cdd9d button.colab-df-convert');\n",
              "        buttonEl.style.display =\n",
              "          google.colab.kernel.accessAllowed ? 'block' : 'none';\n",
              "\n",
              "        async function convertToInteractive(key) {\n",
              "          const element = document.querySelector('#df-59c4f1b8-731e-4ce6-a710-657e188cdd9d');\n",
              "          const dataTable =\n",
              "            await google.colab.kernel.invokeFunction('convertToInteractive',\n",
              "                                                     [key], {});\n",
              "          if (!dataTable) return;\n",
              "\n",
              "          const docLinkHtml = 'Like what you see? Visit the ' +\n",
              "            '<a target=\"_blank\" href=https://colab.research.google.com/notebooks/data_table.ipynb>data table notebook</a>'\n",
              "            + ' to learn more about interactive tables.';\n",
              "          element.innerHTML = '';\n",
              "          dataTable['output_type'] = 'display_data';\n",
              "          await google.colab.output.renderOutput(dataTable, element);\n",
              "          const docLink = document.createElement('div');\n",
              "          docLink.innerHTML = docLinkHtml;\n",
              "          element.appendChild(docLink);\n",
              "        }\n",
              "      </script>\n",
              "    </div>\n",
              "  </div>\n",
              "  "
            ]
          },
          "metadata": {},
          "execution_count": 69
        }
      ]
    },
    {
      "cell_type": "code",
      "source": [
        "df = results.groupby(['RoadName']).size().reset_index(name='counts')"
      ],
      "metadata": {
        "id": "mxpFeRPYiFQW"
      },
      "id": "mxpFeRPYiFQW",
      "execution_count": 39,
      "outputs": []
    },
    {
      "cell_type": "code",
      "source": [
        "df.sort_values(by=['counts'], ascending=False)"
      ],
      "metadata": {
        "colab": {
          "base_uri": "https://localhost:8080/",
          "height": 419
        },
        "id": "PBDNAydkid7Y",
        "outputId": "62be55cb-c7a5-4bc5-a31e-a79ec09822e3"
      },
      "id": "PBDNAydkid7Y",
      "execution_count": 42,
      "outputs": [
        {
          "output_type": "execute_result",
          "data": {
            "text/plain": [
              "              RoadName  counts\n",
              "316             I-24 E    1406\n",
              "392   OLD HICKORY BLVD    1070\n",
              "317             I-24 W     993\n",
              "191        BRILEY PKWY     659\n",
              "366  MURFREESBORO PIKE     642\n",
              "..                 ...     ...\n",
              "248     E DUE WEST AVE       1\n",
              "249          E IRIS DR       1\n",
              "257       ELECTRIC AVE       1\n",
              "411     RIVER HILLS DR       1\n",
              "250          E PARK DR       1\n",
              "\n",
              "[500 rows x 2 columns]"
            ],
            "text/html": [
              "\n",
              "  <div id=\"df-ec0dcd9c-3add-4e92-b3ee-e8b9cd5b5386\">\n",
              "    <div class=\"colab-df-container\">\n",
              "      <div>\n",
              "<style scoped>\n",
              "    .dataframe tbody tr th:only-of-type {\n",
              "        vertical-align: middle;\n",
              "    }\n",
              "\n",
              "    .dataframe tbody tr th {\n",
              "        vertical-align: top;\n",
              "    }\n",
              "\n",
              "    .dataframe thead th {\n",
              "        text-align: right;\n",
              "    }\n",
              "</style>\n",
              "<table border=\"1\" class=\"dataframe\">\n",
              "  <thead>\n",
              "    <tr style=\"text-align: right;\">\n",
              "      <th></th>\n",
              "      <th>RoadName</th>\n",
              "      <th>counts</th>\n",
              "    </tr>\n",
              "  </thead>\n",
              "  <tbody>\n",
              "    <tr>\n",
              "      <th>316</th>\n",
              "      <td>I-24 E</td>\n",
              "      <td>1406</td>\n",
              "    </tr>\n",
              "    <tr>\n",
              "      <th>392</th>\n",
              "      <td>OLD HICKORY BLVD</td>\n",
              "      <td>1070</td>\n",
              "    </tr>\n",
              "    <tr>\n",
              "      <th>317</th>\n",
              "      <td>I-24 W</td>\n",
              "      <td>993</td>\n",
              "    </tr>\n",
              "    <tr>\n",
              "      <th>191</th>\n",
              "      <td>BRILEY PKWY</td>\n",
              "      <td>659</td>\n",
              "    </tr>\n",
              "    <tr>\n",
              "      <th>366</th>\n",
              "      <td>MURFREESBORO PIKE</td>\n",
              "      <td>642</td>\n",
              "    </tr>\n",
              "    <tr>\n",
              "      <th>...</th>\n",
              "      <td>...</td>\n",
              "      <td>...</td>\n",
              "    </tr>\n",
              "    <tr>\n",
              "      <th>248</th>\n",
              "      <td>E DUE WEST AVE</td>\n",
              "      <td>1</td>\n",
              "    </tr>\n",
              "    <tr>\n",
              "      <th>249</th>\n",
              "      <td>E IRIS DR</td>\n",
              "      <td>1</td>\n",
              "    </tr>\n",
              "    <tr>\n",
              "      <th>257</th>\n",
              "      <td>ELECTRIC AVE</td>\n",
              "      <td>1</td>\n",
              "    </tr>\n",
              "    <tr>\n",
              "      <th>411</th>\n",
              "      <td>RIVER HILLS DR</td>\n",
              "      <td>1</td>\n",
              "    </tr>\n",
              "    <tr>\n",
              "      <th>250</th>\n",
              "      <td>E PARK DR</td>\n",
              "      <td>1</td>\n",
              "    </tr>\n",
              "  </tbody>\n",
              "</table>\n",
              "<p>500 rows × 2 columns</p>\n",
              "</div>\n",
              "      <button class=\"colab-df-convert\" onclick=\"convertToInteractive('df-ec0dcd9c-3add-4e92-b3ee-e8b9cd5b5386')\"\n",
              "              title=\"Convert this dataframe to an interactive table.\"\n",
              "              style=\"display:none;\">\n",
              "        \n",
              "  <svg xmlns=\"http://www.w3.org/2000/svg\" height=\"24px\"viewBox=\"0 0 24 24\"\n",
              "       width=\"24px\">\n",
              "    <path d=\"M0 0h24v24H0V0z\" fill=\"none\"/>\n",
              "    <path d=\"M18.56 5.44l.94 2.06.94-2.06 2.06-.94-2.06-.94-.94-2.06-.94 2.06-2.06.94zm-11 1L8.5 8.5l.94-2.06 2.06-.94-2.06-.94L8.5 2.5l-.94 2.06-2.06.94zm10 10l.94 2.06.94-2.06 2.06-.94-2.06-.94-.94-2.06-.94 2.06-2.06.94z\"/><path d=\"M17.41 7.96l-1.37-1.37c-.4-.4-.92-.59-1.43-.59-.52 0-1.04.2-1.43.59L10.3 9.45l-7.72 7.72c-.78.78-.78 2.05 0 2.83L4 21.41c.39.39.9.59 1.41.59.51 0 1.02-.2 1.41-.59l7.78-7.78 2.81-2.81c.8-.78.8-2.07 0-2.86zM5.41 20L4 18.59l7.72-7.72 1.47 1.35L5.41 20z\"/>\n",
              "  </svg>\n",
              "      </button>\n",
              "      \n",
              "  <style>\n",
              "    .colab-df-container {\n",
              "      display:flex;\n",
              "      flex-wrap:wrap;\n",
              "      gap: 12px;\n",
              "    }\n",
              "\n",
              "    .colab-df-convert {\n",
              "      background-color: #E8F0FE;\n",
              "      border: none;\n",
              "      border-radius: 50%;\n",
              "      cursor: pointer;\n",
              "      display: none;\n",
              "      fill: #1967D2;\n",
              "      height: 32px;\n",
              "      padding: 0 0 0 0;\n",
              "      width: 32px;\n",
              "    }\n",
              "\n",
              "    .colab-df-convert:hover {\n",
              "      background-color: #E2EBFA;\n",
              "      box-shadow: 0px 1px 2px rgba(60, 64, 67, 0.3), 0px 1px 3px 1px rgba(60, 64, 67, 0.15);\n",
              "      fill: #174EA6;\n",
              "    }\n",
              "\n",
              "    [theme=dark] .colab-df-convert {\n",
              "      background-color: #3B4455;\n",
              "      fill: #D2E3FC;\n",
              "    }\n",
              "\n",
              "    [theme=dark] .colab-df-convert:hover {\n",
              "      background-color: #434B5C;\n",
              "      box-shadow: 0px 1px 3px 1px rgba(0, 0, 0, 0.15);\n",
              "      filter: drop-shadow(0px 1px 2px rgba(0, 0, 0, 0.3));\n",
              "      fill: #FFFFFF;\n",
              "    }\n",
              "  </style>\n",
              "\n",
              "      <script>\n",
              "        const buttonEl =\n",
              "          document.querySelector('#df-ec0dcd9c-3add-4e92-b3ee-e8b9cd5b5386 button.colab-df-convert');\n",
              "        buttonEl.style.display =\n",
              "          google.colab.kernel.accessAllowed ? 'block' : 'none';\n",
              "\n",
              "        async function convertToInteractive(key) {\n",
              "          const element = document.querySelector('#df-ec0dcd9c-3add-4e92-b3ee-e8b9cd5b5386');\n",
              "          const dataTable =\n",
              "            await google.colab.kernel.invokeFunction('convertToInteractive',\n",
              "                                                     [key], {});\n",
              "          if (!dataTable) return;\n",
              "\n",
              "          const docLinkHtml = 'Like what you see? Visit the ' +\n",
              "            '<a target=\"_blank\" href=https://colab.research.google.com/notebooks/data_table.ipynb>data table notebook</a>'\n",
              "            + ' to learn more about interactive tables.';\n",
              "          element.innerHTML = '';\n",
              "          dataTable['output_type'] = 'display_data';\n",
              "          await google.colab.output.renderOutput(dataTable, element);\n",
              "          const docLink = document.createElement('div');\n",
              "          docLink.innerHTML = docLinkHtml;\n",
              "          element.appendChild(docLink);\n",
              "        }\n",
              "      </script>\n",
              "    </div>\n",
              "  </div>\n",
              "  "
            ]
          },
          "metadata": {},
          "execution_count": 42
        }
      ]
    },
    {
      "cell_type": "code",
      "source": [
        "df.loc[df['counts'].idxmax()]"
      ],
      "metadata": {
        "colab": {
          "base_uri": "https://localhost:8080/"
        },
        "id": "HGAkxfPZj2wJ",
        "outputId": "4fa46486-eff9-4df3-a154-5054bad2b836"
      },
      "id": "HGAkxfPZj2wJ",
      "execution_count": 43,
      "outputs": [
        {
          "output_type": "execute_result",
          "data": {
            "text/plain": [
              "RoadName    I-24 E\n",
              "counts        1406\n",
              "Name: 316, dtype: object"
            ]
          },
          "metadata": {},
          "execution_count": 43
        }
      ]
    }
  ],
  "metadata": {
    "kernelspec": {
      "display_name": "Python 3 (ipykernel)",
      "language": "python",
      "name": "python3"
    },
    "language_info": {
      "codemirror_mode": {
        "name": "ipython",
        "version": 3
      },
      "file_extension": ".py",
      "mimetype": "text/x-python",
      "name": "python",
      "nbconvert_exporter": "python",
      "pygments_lexer": "ipython3",
      "version": "3.9.7"
    },
    "colab": {
      "name": "join.ipynb",
      "provenance": [],
      "collapsed_sections": [],
      "include_colab_link": true
    }
  },
  "nbformat": 4,
  "nbformat_minor": 5
}